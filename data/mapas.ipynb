{
 "cells": [
  {
   "cell_type": "markdown",
   "metadata": {},
   "source": [
    "Importamos las librerias que utilizaremos a lo largo del *notebook*"
   ]
  },
  {
   "cell_type": "code",
   "execution_count": 1,
   "metadata": {},
   "outputs": [],
   "source": [
    "import pandas as pd\n",
    "import numpy as np\n",
    "import json\n",
    "import matplotlib.pyplot as plt\n",
    "import uuid\n",
    "import math"
   ]
  },
  {
   "cell_type": "markdown",
   "metadata": {},
   "source": [
    "Como vemos no podemos sacar la información por meses... pasamos a Eurostat"
   ]
  },
  {
   "cell_type": "markdown",
   "metadata": {},
   "source": [
    "## Eurostat Importaciones/Exportaciones por mes"
   ]
  },
  {
   "cell_type": "code",
   "execution_count": 2,
   "metadata": {},
   "outputs": [
    {
     "data": {
      "text/html": [
       "<div>\n",
       "<style scoped>\n",
       "    .dataframe tbody tr th:only-of-type {\n",
       "        vertical-align: middle;\n",
       "    }\n",
       "\n",
       "    .dataframe tbody tr th {\n",
       "        vertical-align: top;\n",
       "    }\n",
       "\n",
       "    .dataframe thead th {\n",
       "        text-align: right;\n",
       "    }\n",
       "</style>\n",
       "<table border=\"1\" class=\"dataframe\">\n",
       "  <thead>\n",
       "    <tr style=\"text-align: right;\">\n",
       "      <th></th>\n",
       "      <th>PRODUCT</th>\n",
       "      <th>PRODUCT_LABEL</th>\n",
       "      <th>PARTNER</th>\n",
       "      <th>PARTNER_LABEL</th>\n",
       "      <th>REPORTER</th>\n",
       "      <th>FLOW</th>\n",
       "      <th>PERIOD</th>\n",
       "      <th>INDICATORS</th>\n",
       "      <th>Value</th>\n",
       "      <th>Flag and Footnotes</th>\n",
       "    </tr>\n",
       "  </thead>\n",
       "  <tbody>\n",
       "    <tr>\n",
       "      <th>135840</th>\n",
       "      <td>5</td>\n",
       "      <td>VEGETABLES AND FRUIT</td>\n",
       "      <td>EU28_EXTRA</td>\n",
       "      <td>Extra-EU28 (= 'WORLD' - 'EU28_INTRA')</td>\n",
       "      <td>Spain (incl. Canary Islands 'XB' from 1997)</td>\n",
       "      <td>IMPORT</td>\n",
       "      <td>Jan. 2017</td>\n",
       "      <td>VALUE_IN_EUROS</td>\n",
       "      <td>262854626.0</td>\n",
       "      <td>NaN</td>\n",
       "    </tr>\n",
       "    <tr>\n",
       "      <th>135841</th>\n",
       "      <td>5</td>\n",
       "      <td>VEGETABLES AND FRUIT</td>\n",
       "      <td>EU28_EXTRA</td>\n",
       "      <td>Extra-EU28 (= 'WORLD' - 'EU28_INTRA')</td>\n",
       "      <td>Spain (incl. Canary Islands 'XB' from 1997)</td>\n",
       "      <td>IMPORT</td>\n",
       "      <td>Feb. 2017</td>\n",
       "      <td>VALUE_IN_EUROS</td>\n",
       "      <td>258526740.0</td>\n",
       "      <td>NaN</td>\n",
       "    </tr>\n",
       "    <tr>\n",
       "      <th>135842</th>\n",
       "      <td>5</td>\n",
       "      <td>VEGETABLES AND FRUIT</td>\n",
       "      <td>EU28_EXTRA</td>\n",
       "      <td>Extra-EU28 (= 'WORLD' - 'EU28_INTRA')</td>\n",
       "      <td>Spain (incl. Canary Islands 'XB' from 1997)</td>\n",
       "      <td>IMPORT</td>\n",
       "      <td>Mar. 2017</td>\n",
       "      <td>VALUE_IN_EUROS</td>\n",
       "      <td>308892347.0</td>\n",
       "      <td>NaN</td>\n",
       "    </tr>\n",
       "    <tr>\n",
       "      <th>135843</th>\n",
       "      <td>5</td>\n",
       "      <td>VEGETABLES AND FRUIT</td>\n",
       "      <td>EU28_EXTRA</td>\n",
       "      <td>Extra-EU28 (= 'WORLD' - 'EU28_INTRA')</td>\n",
       "      <td>Spain (incl. Canary Islands 'XB' from 1997)</td>\n",
       "      <td>IMPORT</td>\n",
       "      <td>Apr. 2017</td>\n",
       "      <td>VALUE_IN_EUROS</td>\n",
       "      <td>249943804.0</td>\n",
       "      <td>NaN</td>\n",
       "    </tr>\n",
       "    <tr>\n",
       "      <th>135844</th>\n",
       "      <td>5</td>\n",
       "      <td>VEGETABLES AND FRUIT</td>\n",
       "      <td>EU28_EXTRA</td>\n",
       "      <td>Extra-EU28 (= 'WORLD' - 'EU28_INTRA')</td>\n",
       "      <td>Spain (incl. Canary Islands 'XB' from 1997)</td>\n",
       "      <td>IMPORT</td>\n",
       "      <td>May. 2017</td>\n",
       "      <td>VALUE_IN_EUROS</td>\n",
       "      <td>275080559.0</td>\n",
       "      <td>NaN</td>\n",
       "    </tr>\n",
       "  </tbody>\n",
       "</table>\n",
       "</div>"
      ],
      "text/plain": [
       "        PRODUCT         PRODUCT_LABEL     PARTNER  \\\n",
       "135840        5  VEGETABLES AND FRUIT  EU28_EXTRA   \n",
       "135841        5  VEGETABLES AND FRUIT  EU28_EXTRA   \n",
       "135842        5  VEGETABLES AND FRUIT  EU28_EXTRA   \n",
       "135843        5  VEGETABLES AND FRUIT  EU28_EXTRA   \n",
       "135844        5  VEGETABLES AND FRUIT  EU28_EXTRA   \n",
       "\n",
       "                                PARTNER_LABEL  \\\n",
       "135840  Extra-EU28 (= 'WORLD' - 'EU28_INTRA')   \n",
       "135841  Extra-EU28 (= 'WORLD' - 'EU28_INTRA')   \n",
       "135842  Extra-EU28 (= 'WORLD' - 'EU28_INTRA')   \n",
       "135843  Extra-EU28 (= 'WORLD' - 'EU28_INTRA')   \n",
       "135844  Extra-EU28 (= 'WORLD' - 'EU28_INTRA')   \n",
       "\n",
       "                                           REPORTER    FLOW     PERIOD  \\\n",
       "135840  Spain (incl. Canary Islands 'XB' from 1997)  IMPORT  Jan. 2017   \n",
       "135841  Spain (incl. Canary Islands 'XB' from 1997)  IMPORT  Feb. 2017   \n",
       "135842  Spain (incl. Canary Islands 'XB' from 1997)  IMPORT  Mar. 2017   \n",
       "135843  Spain (incl. Canary Islands 'XB' from 1997)  IMPORT  Apr. 2017   \n",
       "135844  Spain (incl. Canary Islands 'XB' from 1997)  IMPORT  May. 2017   \n",
       "\n",
       "            INDICATORS        Value  Flag and Footnotes  \n",
       "135840  VALUE_IN_EUROS  262854626.0                 NaN  \n",
       "135841  VALUE_IN_EUROS  258526740.0                 NaN  \n",
       "135842  VALUE_IN_EUROS  308892347.0                 NaN  \n",
       "135843  VALUE_IN_EUROS  249943804.0                 NaN  \n",
       "135844  VALUE_IN_EUROS  275080559.0                 NaN  "
      ]
     },
     "execution_count": 2,
     "metadata": {},
     "output_type": "execute_result"
    }
   ],
   "source": [
    "eurostat = pd.read_csv(\"eurostat_importaciones_exportaciones/DS-018995_1_Data.csv\", encoding = \"ISO-8859-1\")\n",
    "eurostat_horto = eurostat.loc[eurostat[\"PRODUCT_LABEL\"]==\"VEGETABLES AND FRUIT\"]\n",
    "eurostat_horto = eurostat_horto[eurostat_horto.Value != \":\"]\n",
    "for i, row in eurostat_horto.iterrows():\n",
    "    eurostat_horto.at[i,'Value'] = row[\"Value\"].replace(\" \", \"\")\n",
    "eurostat_horto['Value'] = eurostat_horto['Value'].astype(float)\n",
    "eurostat_horto.head()"
   ]
  },
  {
   "cell_type": "code",
   "execution_count": 3,
   "metadata": {},
   "outputs": [
    {
     "data": {
      "text/plain": [
       "array(['EU28_EXTRA', 'EU28_INTRA', 'AD', 'AE', 'AF', 'AG', 'AL', 'AM',\n",
       "       'AO', 'AR', 'AT', 'AU', 'AW', 'AZ', 'BA', 'BB', 'BD', 'BE', 'BF',\n",
       "       'BG', 'BH', 'BJ', 'BL', 'BM', 'BN', 'BO', 'BR', 'BS', 'BT', 'BW',\n",
       "       'BY', 'BZ', 'CA', 'CD', 'CF', 'CG', 'CH', 'CI', 'CL', 'CM', 'CN',\n",
       "       'CO', 'CR', 'CU', 'CV', 'CW', 'CY', 'CZ', 'DE', 'DJ', 'DK', 'DM',\n",
       "       'DO', 'DZ', 'EC', 'EE', 'EG', 'EH', 'ET', 'FI', 'FJ', 'FR', 'GA',\n",
       "       'GB', 'GD', 'GE', 'GH', 'GI', 'GM', 'GN', 'GQ', 'GR', 'GS', 'GT',\n",
       "       'GW', 'GY', 'HK', 'HN', 'HR', 'HT', 'HU', 'ID', 'IE', 'IL', 'IN',\n",
       "       'IQ', 'IR', 'IS', 'IT', 'JM', 'JO', 'JP', 'KE', 'KG', 'KH', 'KM',\n",
       "       'KP', 'KR', 'KW', 'KY', 'KZ', 'LA', 'LB', 'LC', 'LI', 'LK', 'LR',\n",
       "       'LT', 'LU', 'LV', 'LY', 'MA', 'MD', 'ME', 'MG', 'MK', 'ML', 'MM',\n",
       "       'MN', 'MO', 'MR', 'MT', 'MU', 'MV', 'MW', 'MX', 'MY', 'MZ', nan,\n",
       "       'NC', 'NE', 'NG', 'NI', 'NL', 'NO', 'NP', 'NZ', 'OM', 'PA', 'PE',\n",
       "       'PF', 'PG', 'PH', 'PK', 'PL', 'PS', 'PT', 'PY', 'QA', 'QR', 'QS',\n",
       "       'QV', 'QW', 'RO', 'RU', 'RW', 'SA', 'SC', 'SD', 'SE', 'SG', 'SI',\n",
       "       'SK', 'SL', 'SM', 'SN', 'SO', 'SR', 'SS', 'ST', 'SV', 'SX', 'SY',\n",
       "       'SZ', 'TD', 'TG', 'TH', 'TJ', 'TL', 'TM', 'TN', 'TR', 'TT', 'TW',\n",
       "       'TZ', 'UA', 'UG', 'US', 'UY', 'UZ', 'VE', 'VG', 'VN', 'WS', 'XC',\n",
       "       'XK', 'XL', 'XS', 'YE', 'ZA', 'ZM', 'ZW'], dtype=object)"
      ]
     },
     "execution_count": 3,
     "metadata": {},
     "output_type": "execute_result"
    }
   ],
   "source": [
    "eurostat_horto[\"PARTNER\"].unique()"
   ]
  },
  {
   "cell_type": "code",
   "execution_count": 4,
   "metadata": {},
   "outputs": [
    {
     "name": "stdout",
     "output_type": "stream",
     "text": [
      "Requirement already satisfied: geopy in /home/maparla/anaconda3/envs/ml_env/lib/python3.9/site-packages (2.1.0)\r\n",
      "Requirement already satisfied: geographiclib<2,>=1.49 in /home/maparla/anaconda3/envs/ml_env/lib/python3.9/site-packages (from geopy) (1.50)\r\n"
     ]
    }
   ],
   "source": [
    "!pip install geopy"
   ]
  },
  {
   "cell_type": "code",
   "execution_count": 5,
   "metadata": {},
   "outputs": [
    {
     "name": "stdout",
     "output_type": "stream",
     "text": [
      "Tenemos un total de 181 paises\n"
     ]
    }
   ],
   "source": [
    "# \"BL\": \"Saint Barthélemy\" / 'GS': \"South Georgia and The South Sandwich Islands\"\n",
    "# 'HK': \"Hong Kong\" / 'MO': \"Macao\" / 'TM': \"Turkmenistan\" / 'KP': \"North Korea\"\n",
    "# \"BN\": \"Brunei Darussalam\" / \"CI\": \"Côte D'Ivoire\" / 'SX': \"Sint Maarten\"\n",
    "abreviatura2location = {\n",
    "    \"AD\": \"Andorra\", \"AE\": \"United Arab Emirates\", \"AF\": \"Afghanistan\", \"AG\": \"Antigua and Barbuda\",\n",
    "    \"AL\": \"Anguilla\", \"AM\": \"Armenia\", \"AO\": \"Angola\", \"AR\": \"Argentina\", \"AT\": \"Austria\", \"AU\": \"Australia\",\n",
    "    \"AW\": \"Aruba\", \"AZ\": \"Azerbaijan\", \"BA\": \"Bosnia and Herzegovina\", \"BB\": \"Barbados\", \"BD\": \"Bangladesh\",\n",
    "    \"BE\": \"Belgium\", \"BF\": \"Burkina Faso\", \"BG\": \"Bulgaria\", \"BH\": \"Bahrain\", \"BJ\": \"Benin\", \n",
    "    \"BM\": \"Bermuda\", \"BO\": \"Bolivia\", \"BR\": \"Brazil\",\n",
    "    \"BS\": \"Bahamas\", \"BT\": \"Bhutan\", \"BW\": \"Botswana\", \"BY\": \"Belarus\", \"BZ\": \"Belize\", \"CA\": \"Canada\",\n",
    "    \"CD\": \"Democratic Republic of The Congo\", \"CF\": \"Central African Republic\", \"CG\": \"Congo\",\n",
    "    \"CH\": \"Switzerland\",  \"CL\": \"Chile\", \"CM\": \"Cameroon\", \"CN\": \"China\", \n",
    "    \"CO\": \"Colombia\", 'CR': \"Costa Rica\", 'CU': \"Cuba\", 'CV': \"Cape Verde\", 'CW': \"Curaçao\", 'CY': \"Cyprus\", \n",
    "    'CZ': \"Czechia\", 'DE': \"Germany\", 'DJ': \"Djibouti\", 'DK': \"Denmark\", 'DM': \"Dominica\", \n",
    "    'DO': \"Dominican Republic\", 'DZ': \"Algeria\", 'EC': \"Ecuador\", 'EE': \"Estonia\", 'EG': \"Egypt\", \n",
    "    'EH': \"Western Sahara\", 'ET': \"Ethiopia\", 'FI': \"Finland\", 'FJ': \"Fiji\", 'FR': \"France\", \n",
    "    'GA': \"Gabon\", 'GB': \"United Kingdom\", 'GD': \"Grenada\", 'GE': \"Georgia\", 'GH': \"Ghana\", 'GI': \"Gibraltar\", \n",
    "    'GM': \"Gambia\", 'GN': \"Guinea\", 'GQ': \"Equatorial Guinea\", 'GR': \"Greece\", \n",
    "    'GT': \"Guatemala\", 'GW': \"Guinea-Bissau\", \n",
    "    'GY': \"Guyana\", 'HN': \"Honduras\", 'HR': \"Croatia\", 'HT': \"Haiti\", 'HU': \"Hungary\", \n",
    "    'ID': \"Indonesia\", 'IE': \"Ireland\", 'IL': \"Israel\", 'IN': \"Isle of Man\", 'IQ': \"Iraq\", 'IR': \"Iran\", \n",
    "    'IS': \"Iceland\",  'IT': \"Italy\",  'JM': \"Jamaica\",  'JO': \"Jordan\",  'JP': \"Japan\",  'KE': \"Kenya\", \n",
    "    'KG': \"Kyrgyzstan\",  'KH': \"Cambodia\",  'KM': \"Comoros\", 'KR': \"South Korea\", \n",
    "    'KW': \"Kuwait\", 'KY': \"Cayman Islands\", 'KZ': \"Kazakhstan\", 'LA': \"Laos\", 'LB': \"Lebanon\", \n",
    "    'LC': \"Saint Lucia\", 'LI': \"Liechtenstein\", 'LK': \"Sri Lanka\", 'LR': \"Liberia\", 'LT': \"Lithuania\", \n",
    "    'LU': \"Luxembourg\", 'LV': \"Latvia\", 'LY': \"Libya\", 'MA': \"Morocco\", 'MD': \"Moldova\", 'ME': \"Montenegro\", \n",
    "    'MG': \"Madagascar\", 'MK': \"North Macedonia\", 'ML': \"Mali\", 'MM': \"Myanmar/Burma\",\n",
    "    'MN': \"Mongolia\", 'MR': \"Mauritania\", 'MT': \"Malta\", 'MU': \"Mauritius\", \n",
    "    'MV': \"Maldives\", 'MW': \"Malawi\", 'MX': \"Mexico\", 'MY': \"Malaysia\", 'MZ': \"Mozambique\",\n",
    "    'NC': \"New Caledonia\", 'NE': \"Niger\", 'NG': \"Nigeria\", 'NI': \"Nicaragua\", 'NL': \"Netherlands\", \n",
    "    'NO': \"Norway\", 'NP': \"Nepal\", 'NZ': \"New Zealand\", 'OM': \"Oman\", 'PA': \"Panama\", 'PE': \"Peru\",\n",
    "    'PF': \"French Polynesia\", 'PG': \"Papua New Guinea\", 'PH': \"Philippines\", 'PK': \"Pakistan\", \n",
    "    'PL': \"Poland\", 'PS': \"Palestine\", 'PT': \"Portugal\", 'PY': \"Paraguay\", 'QA': \"Qatar\", 'RO': \"Romania\", \n",
    "    'RU': \"Russian Federation\", 'RW': \"Rwanda\", 'SA': \"Saudi Arabia\", 'SC': \"Seychelles\", 'SD': \"Sudan\", \n",
    "    'SE': \"Sweden\", 'SG': \"Singapore\", 'SI': \"Slovenia\", 'SK': \"Slovakia\", 'SL': \"Sierra Leone\", \n",
    "    'SM': \"San Marino\", 'SN': \"Senegal\", 'SO': \"Somalia\", 'SR': \"Suriname\", 'SS': \"South Sudan\", \n",
    "    'ST': \"São Tomé and Príncipe\", 'SV': \"El Salvador\", 'SY': \"Syria\",\n",
    "    'SZ': \"Eswatini\", 'TD': \"Chad\", 'TG': \"Togo\", 'TH': \"Thailand\", 'TJ': \"Tajikistan\", \n",
    "    'TL': \"Timor-Leste\", 'TN': \"Tunisia\", 'TR': \"Turkey\", 'TT': \"Trinidad and Tobago\",\n",
    "    'TZ': \"United Republic of Tanzania\", 'UA': \"Ukraine\", 'UG': \"Uganda\", 'US': \"United States\", \n",
    "    'UY': \"Uruguay\", 'UZ': \"Uzbekistan\", 'VE': \"Venezuela\", 'VG': \"British Virgin Islands\", \n",
    "    'VN': \"Vietnam\", 'WS': \"Wallis and Futuna\", 'YE': \"Yemen\", 'ZA': \"South Africa\", \n",
    "    'ZM': \"Zambia\",  'ZW': \"Zimbabwe\"\n",
    "}\n",
    "\n",
    "print(f\"Tenemos un total de {len(abreviatura2location)} paises\")"
   ]
  },
  {
   "cell_type": "code",
   "execution_count": 6,
   "metadata": {},
   "outputs": [],
   "source": [
    "# https://www.geeksforgeeks.org/how-to-find-longitude-and-latitude-for-a-list-of-regions-or-country-using-python/\n",
    "from geopy.exc import GeocoderTimedOut \n",
    "from geopy.geocoders import Nominatim "
   ]
  },
  {
   "cell_type": "code",
   "execution_count": 7,
   "metadata": {},
   "outputs": [],
   "source": [
    "country_locations_df = pd.DataFrame(data = {'Country': list(abreviatura2location.values())})\n",
    "\n",
    "# declare an empty list to store latitude and longitude of values of country column \n",
    "latitude, longitude = [], [] \n",
    "   \n",
    "# function to find the coordinate of a given city  \n",
    "def findGeocode(city): \n",
    "    # try and catch: overcome the exception thrown by geolocator using geocodertimedout   \n",
    "    try:   \n",
    "        # Specify the user_agent as your app name it should not be none \n",
    "        geolocator = Nominatim(user_agent=\"cajamar\") \n",
    "        return geolocator.geocode(city) \n",
    "    except GeocoderTimedOut: \n",
    "        return findGeocode(city)     \n",
    "\n",
    "# each value from country column will be fetched and sent to function find_geocode    \n",
    "for pais in (country_locations_df[\"Country\"]): \n",
    "    if findGeocode(pais) != None: \n",
    "        loc = findGeocode(pais) \n",
    "        # coordinates returned from  function is stored into two separate list \n",
    "        latitude.append(loc.latitude) \n",
    "        longitude.append(loc.longitude) \n",
    "       \n",
    "    # if coordinate for a city not found, alert!\n",
    "    else: \n",
    "        assert False, f\"No podemos encontrar las coordenadas para '{pais}'\"\n",
    "\n",
    "country_locations_df[\"Latitude\"] = latitude \n",
    "country_locations_df[\"Longitude\"] = longitude "
   ]
  },
  {
   "cell_type": "code",
   "execution_count": 8,
   "metadata": {},
   "outputs": [],
   "source": [
    "def truncate(numero, n):\n",
    "    \"\"\"\n",
    "    Dado un numero y n, devuelve el numero con n decimales.\n",
    "    Ejemplo -> numero = 10.321, n=2 -> 10.32\n",
    "    \"\"\"\n",
    "    if type(numero)==int: return numero\n",
    "    pos = str(numero).find(\".\") + n + 1\n",
    "    return float(str (numero)[:pos])"
   ]
  },
  {
   "cell_type": "code",
   "execution_count": 9,
   "metadata": {},
   "outputs": [],
   "source": [
    "# http://wiki.gis.com/wiki/index.php/Decimal_degrees\n",
    "# Podemos guardar únicamente 2 decimales para salvar espacio!\n",
    "\n",
    "location2coordinates = {}\n",
    "for index, row in country_locations_df.iterrows():\n",
    "    location2coordinates[row['Country']] = [truncate(row['Latitude'], 2), truncate(row['Longitude'], 2)]\n",
    "\n",
    "# location2coordinates => 'Andorra': [42.540, 1.573], 'Angola': [-11.877, 17.569]..."
   ]
  },
  {
   "cell_type": "code",
   "execution_count": 11,
   "metadata": {},
   "outputs": [],
   "source": [
    "# Dominica no es capaz de cogerlo bien\n",
    "location2coordinates[\"Georgia\"] = [41.71, 44.78]\n",
    "location2coordinates[\"Dominica\"] = [15.34, -61.43]"
   ]
  },
  {
   "cell_type": "code",
   "execution_count": 12,
   "metadata": {},
   "outputs": [],
   "source": [
    "# 'Saint Barthélemy': \"San Bartolomé\" \n",
    "# 'South Georgia and The South Sandwich Islands': \"Islas Georgias del Sur y Sandwich del Sur\",\n",
    "# 'Hong Kong': \"Hong Kong\" / 'Macao': \"Macao\" / 'Turkmenistan': \"Turkmenistán\"\n",
    "# 'North Korea': \"Corea del Norte\" / 'Brunei Darussalam': \"Brunéi\"\n",
    "# \"Côte D'Ivoire\": \"Costa de Marfil\" / \n",
    "pais2display = {\n",
    "    'Andorra': \"Andorra\", 'United Arab Emirates': \"Emiratos Árabes Unidos\", 'Afghanistan': \"Afganistán\",\n",
    "    'Antigua and Barbuda': \"Antigua y Barbuda\", 'Anguilla': \"Anguilla\", 'Armenia': \"Armenia\",\n",
    "    'Angola': \"Angola\", 'Argentina': \"Argentina\", 'Austria': \"Austria\", 'Australia': \"Australia\",\n",
    "    'Aruba': \"Aruba\", 'Azerbaijan': \"Azerbaiyán\", 'Bosnia and Herzegovina': \"Bosnia y Herzegovina\",\n",
    "    'Barbados': \"Barbados\", 'Bangladesh': \"Bangladesh\", 'Belgium': \"Bélgica\",\n",
    "    'Burkina Faso': \"Burkina Faso\", 'Bulgaria': \"Bulgaria\", 'Bahrain': \"Baréin\", 'Benin': \"Benín\",\n",
    "    'Bermuda': \"Bermudas\", \n",
    "    'Bolivia': \"Bolivia\", 'Brazil': \"Brasil\", 'Bahamas': \"Bahamas\", 'Bhutan': \"Bután\", \n",
    "    'Botswana': \"Botsuana\", 'Belarus': \"Bielorrusia\", 'Belize': \"Belice\", 'Canada': \"Canada\",\n",
    "    'Democratic Republic of The Congo': \"República Democrática del Congo\", \n",
    "    'Central African Republic': \"República Centroafricana\", 'Congo': \"Congo\", 'Switzerland': \"Suiza\",\n",
    "     'Chile': \"Chile\", 'Cameroon': \"Camerún\", 'China': \"China\",\n",
    "    'Colombia': \"Colombia\", 'Costa Rica': \"Costa Rica\", 'Cuba': \"Cuba\", 'Cape Verde': \"Cabo Verde\",\n",
    "    'Curaçao': \"Curazao\", 'Cyprus': \"Chipre\", 'Czechia': \"Chequia\", 'Germany': \"Alemania\",\n",
    "    'Djibouti': \"Yibuti\", 'Denmark': \"Dinamarca\", 'Dominica': \"Dominica\", \n",
    "    'Dominican Republic': \"República Dominicana\", 'Algeria': \"Argelia\", 'Ecuador': \"Ecuador\",\n",
    "    'Estonia': \"Estonia\", 'Egypt': \"Egipto\", 'Western Sahara': \"Sahara Occidental\",\n",
    "    'Ethiopia': \"Etiopía\", 'Finland': \"Finlandia\", 'Fiji': \"Fiyi\", 'France': \"Francia\",\n",
    "    'Gabon': \"Gabón\", 'United Kingdom': \"Reino Unido\", 'Grenada': \"Granada\", 'Georgia': \"Georgia\",\n",
    "    'Ghana': \"Ghana\", 'Gibraltar': \"Gibraltar\", 'Gambia': \"Gambia\", 'Guinea': \"Guinea\",\n",
    "    'Equatorial Guinea': \"Guinea Ecuatorial\", 'Greece': \"Grecia\",\n",
    "    'Guatemala': \"Guatemala\", 'Guinea-Bissau': \"Guinea-Bisáu\", 'Guyana': \"Guyana\",\n",
    "    'Honduras': \"Honduras\", 'Croatia': \"Croacia\", 'Haiti': \"Haití\", 'Hungary': \"Hungría\",\n",
    "    'Indonesia': \"Indonesia\", 'Ireland': \"Irlanda\", 'Israel': \"Israel\", 'Isle of Man': \"Isla de Man\",\n",
    "    'Iraq': \"Irak\", 'Iran': \"Irán\", 'Iceland': \"Islandia\", 'Italy': \"Italia\", 'Jamaica': \"Jamaica\",\n",
    "    'Jordan': \"Jordania\", 'Japan': \"Japón\", 'Kenya': \"Kenia\", 'Kyrgyzstan': \"Kirguistán\",\n",
    "    'Cambodia': \"Camboya\", 'Comoros': \"Comoras\", \n",
    "    'South Korea': \"Corea del Sur\", 'Kuwait': \"Kuwait\", 'Cayman Islands': \"Islas Caimán\",\n",
    "    'Kazakhstan': \"Kazajistán\", 'Laos': \"Laos\", 'Lebanon': \"Líbano\", 'Saint Lucia': \"Santa Lucía\",\n",
    "    'Liechtenstein': \"Liechtenstein\", 'Sri Lanka': \"Sri Lanka\", 'Liberia': \"Liberia\",\n",
    "    'Lithuania': \"Lituania\", 'Luxembourg': \"Luxemburgo\", 'Latvia': \"Letonia\", 'Libya': \"Libia\",\n",
    "    'Morocco': \"Marruecos\", 'Moldova': \"Moldavia\", 'Montenegro': \"Montenegro\", 'Madagascar': \"Madagascar\",\n",
    "    'North Macedonia': \"Macedonia del Norte\", 'Mali': \"Malí\", 'Myanmar/Burma': \"Myanmar (Birmania)\",\n",
    "    'Mongolia': \"Mongolia\", 'Mauritania': \"Mauritania\", 'Malta': \"Malta\",\n",
    "    'Mauritius': \"Mauricio\", 'Maldives': \"Maldivas\", 'Malawi': \"Malaui\", 'Mexico': \"México\",\n",
    "    'Malaysia': \"Malasia\", 'Mozambique': \"Mozambique\", 'New Caledonia': \"Nueva Caledonia\",\n",
    "    'Niger': \"Níger\", 'Nigeria': \"Nigeria\", 'Nicaragua': \"Nicaragua\", 'Netherlands': \"Países Bajos\",\n",
    "    'Norway': \"Noruega\", 'Nepal': \"Nepal\", 'New Zealand': \"Nueva Zelanda\", 'Oman': \"Omán\",\n",
    "    'Panama': \"Panamá\", 'Peru': \"Perú\", 'French Polynesia': \"Polinesia Francesa\",\n",
    "    'Papua New Guinea': \"Papúa Nueva Guinea\", 'Philippines': \"Filipinas\", 'Pakistan': \"Pakistán\",\n",
    "    'Poland': \"Polonia\", 'Palestine': \"Palestina\", 'Portugal': \"Portugal\", 'Paraguay': \"Paraguay\",\n",
    "    'Qatar': \"Catar\", 'Romania': \"Rumanía\", 'Russian Federation': \"Rusia\", 'Rwanda': \"Ruanda\",\n",
    "    'Saudi Arabia': \"Arabia Saudita\", 'Seychelles': \"Seychelles\", 'Sudan': \"Sudán\", 'Sweden': \"Suecia\",\n",
    "    'Singapore': \"Singapur\", 'Slovenia': \"Eslovenia\", 'Slovakia': \"Eslovaquia\", \n",
    "    'Sierra Leone': \"Sierra Leona\", 'San Marino': \"San Marino\", 'Senegal': \"Senegal\", 'Somalia': \"Somalia\",\n",
    "    'Suriname': \"Surinam\", 'South Sudan': \"Sudán del Sur\", 'São Tomé and Príncipe': \"Santo Tomé y Príncipe\",\n",
    "    'El Salvador': \"El Salvador\", 'Sint Maarten': \"Sint Maarten\", 'Syria': \"Siria\", 'Eswatini': \"Esuatini\",\n",
    "    'Chad': \"Chad\", 'Togo': \"Togo\", 'Thailand': \"Tailandia\", 'Tajikistan': \"Tayikistán\",\n",
    "    'Timor-Leste': \"Timor Oriental\", 'Tunisia': \"Túnez\",\n",
    "    'Turkey': \"Turquía\", 'Trinidad and Tobago': \"Trinidad y Tobago\", 'United Republic of Tanzania': \"Tanzania\",\n",
    "    'Ukraine': \"Ucrania\", 'Uganda': \"Uganda\", 'United States': \"Estados Unidos\", 'Uruguay': \"Uruguay\",\n",
    "    'Uzbekistan': \"Uzbekistán\", 'Venezuela': \"Venezuela\", 'British Virgin Islands': \"Islas Vírgenes Británicas\",\n",
    "    'Vietnam': \"Vietnam\", 'Wallis and Futuna': \"Wallis y Futuna\", 'Yemen': \"Yemen\", 'South Africa': \"Sudáfrica\",\n",
    "    'Zambia': \"Zambia\", 'Zimbabwe': \"Zimbabue\", \"Spain\": \"España\"\n",
    "}"
   ]
  },
  {
   "cell_type": "code",
   "execution_count": 13,
   "metadata": {},
   "outputs": [],
   "source": [
    "eurostat_por_pais = eurostat_horto.groupby(\"PARTNER\")"
   ]
  },
  {
   "cell_type": "code",
   "execution_count": 14,
   "metadata": {},
   "outputs": [
    {
     "data": {
      "text/plain": [
       "array(['Jan. 2017', 'Feb. 2017', 'Mar. 2017', 'Apr. 2017', 'May. 2017',\n",
       "       'Jun. 2017', 'Jul. 2017', 'Aug. 2017', 'Sep. 2017', 'Oct. 2017',\n",
       "       'Nov. 2017', 'Dec. 2017', 'Jan. 2018', 'Feb. 2018', 'Mar. 2018',\n",
       "       'Apr. 2018', 'May. 2018', 'Jun. 2018', 'Jul. 2018', 'Aug. 2018',\n",
       "       'Sep. 2018', 'Oct. 2018', 'Nov. 2018', 'Dec. 2018', 'Jan. 2019',\n",
       "       'Feb. 2019', 'Mar. 2019', 'Apr. 2019', 'May. 2019', 'Jun. 2019',\n",
       "       'Jul. 2019', 'Aug. 2019', 'Sep. 2019', 'Oct. 2019', 'Nov. 2019',\n",
       "       'Dec. 2019', 'Jan. 2020', 'Feb. 2020', 'Mar. 2020', 'May. 2020',\n",
       "       'Jun. 2020', 'Jul. 2020', 'Aug. 2020', 'Sep. 2020', 'Oct. 2020',\n",
       "       'Dec. 2020', 'Apr. 2020', 'Nov. 2020'], dtype=object)"
      ]
     },
     "execution_count": 14,
     "metadata": {},
     "output_type": "execute_result"
    }
   ],
   "source": [
    "eurostat_horto.PERIOD.unique()"
   ]
  },
  {
   "cell_type": "code",
   "execution_count": 15,
   "metadata": {},
   "outputs": [],
   "source": [
    "months_abreviatura = {\n",
    "    \"Jan.\":1, \"Feb.\":2, \"Mar.\":3, \"Apr.\":4, \"May.\":5, \"Jun.\":6, \n",
    "    \"Jul.\":7, \"Aug.\":8, \"Sep.\":9, \"Oct.\":10, \"Nov.\":11, \"Dec.\":12\n",
    "}\n",
    "\n",
    "analized_years = [2018, 2019, 2020]"
   ]
  },
  {
   "cell_type": "code",
   "execution_count": 16,
   "metadata": {},
   "outputs": [],
   "source": [
    "paises = []\n",
    "res = []\n",
    "importaciones_sum, exportaciones_sum = [], []\n",
    "importaciones_marzo_2018, importaciones_marzo_2019, importaciones_marzo_2020 = [], [], []\n",
    "importaciones_abril_2018, importaciones_abril_2019, importaciones_abril_2020 = [], [], []\n",
    "\n",
    "importaciones_excepcion_2018, importaciones_excepcion_2019, importaciones_excepcion_2020 = [], [], []\n",
    "exportaciones_excepcion_2018, exportaciones_excepcion_2019, exportaciones_excepcion_2020 = [], [], []\n",
    "\n",
    "for pais_short, group in eurostat_por_pais:\n",
    "    if pais_short in abreviatura2location:\n",
    "        pais = abreviatura2location[pais_short]\n",
    "        \n",
    "        for mes_abreviado in months_abreviatura:\n",
    "            for year_analizado in analized_years:\n",
    "                \n",
    "                periodo = group[group['PERIOD'] == f\"{mes_abreviado} {year_analizado}\"]\n",
    "                importaciones_periodo = int(periodo.loc[periodo['FLOW']=='IMPORT'].Value.sum())\n",
    "                exportaciones_periodo = int(periodo.loc[periodo['FLOW']=='EXPORT'].Value.sum())\n",
    "                if (importaciones_periodo + exportaciones_periodo) > 0:\n",
    "                    res.append({\n",
    "                       \"type\":\"Feature\",\n",
    "                        \"properties\":{\n",
    "                            \"id\": uuid.uuid4().hex,\n",
    "                            \"countryISO\": pais_short,\n",
    "                            \"Month\": months_abreviatura[mes_abreviado],\n",
    "                            \"Year\": year_analizado,\n",
    "                            \"Imports\": importaciones_periodo,\n",
    "                            \"Exports\": exportaciones_periodo,\n",
    "                            \"Reporter\": pais2display[pais]\n",
    "                        },\n",
    "                        \"geometry\":{\n",
    "                            \"type\": \"Point\",\n",
    "                            \"coordinates\": location2coordinates[pais][::-1]\n",
    "                        }\n",
    "                    })"
   ]
  },
  {
   "cell_type": "code",
   "execution_count": 17,
   "metadata": {},
   "outputs": [],
   "source": [
    "res = {\n",
    "  \"type\": \"FeatureCollection\",\n",
    "  \"features\": res\n",
    "}\n",
    "\n",
    "with open('imports_exports_full.min.geojson', 'w') as fp:\n",
    "    json.dump(res, fp, separators=(',', ':'))"
   ]
  },
  {
   "cell_type": "markdown",
   "metadata": {},
   "source": [
    "## Choropleth covid"
   ]
  },
  {
   "cell_type": "code",
   "execution_count": 29,
   "metadata": {},
   "outputs": [
    {
     "name": "stdout",
     "output_type": "stream",
     "text": [
      "Requirement already satisfied: geojson in /home/maparla/anaconda3/envs/ml_env/lib/python3.9/site-packages (2.5.0)\r\n"
     ]
    }
   ],
   "source": [
    "!pip install geojson"
   ]
  },
  {
   "cell_type": "code",
   "execution_count": 30,
   "metadata": {},
   "outputs": [],
   "source": [
    "import geojson\n",
    "# CNTR_RG_01M_2020_4326 - CNTR_RG_60M_2020_4326\n",
    "with open(\"fronteras/CNTR_RG_20M_2020_4326.geojson\") as f:\n",
    "    choropleth_locations = geojson.load(f)"
   ]
  },
  {
   "cell_type": "code",
   "execution_count": 31,
   "metadata": {},
   "outputs": [
    {
     "name": "stdout",
     "output_type": "stream",
     "text": [
      "{'Argentina': 0, 'American Samoa': 1, 'Austria': 2, 'Antarctica': 3, 'Andorra': 4, 'United Arab Emirates': 5, 'Afghanistan': 6, 'Antigua and Barbuda': 7, 'Anguilla': 8, 'Albania': 9, 'Armenia': 10, 'Angola': 11, 'Australia': 12, 'Aruba': 13, 'Azerbaijan': 14, 'Bosnia and Herzegovina': 15, 'Barbados': 16, 'Bangladesh': 17, 'Belgium': 18, 'Burkina Faso': 19, 'Bulgaria': 20, 'Bahrain': 21, 'Burundi': 22, 'Benin': 23, 'Saint Barthélemy': 24, 'Bermuda': 25, 'Brunei': 26, 'Bolivia': 27, 'Bonaire, Sint Eustatius and Saba': 28, 'Brazil': 29, 'China': 30, 'Bahamas': 31, 'Bhutan': 32, 'Bouvet Island': 33, 'Botswana': 34, 'Belarus': 35, 'Belize': 36, 'Colombia': 37, 'Clipperton Island': 38, 'Costa Rica': 39, 'Cuba': 40, 'Cape Verde': 41, 'Curaçao': 42, 'Christmas Island': 43, 'Cyprus': 44, 'Czechia': 45, 'Cameroon': 46, 'Canada': 47, 'Cocos (Keeling) Islands': 48, 'Democratic Republic of The Congo': 49, 'Central African Republic': 50, 'Congo': 51, 'Switzerland': 52, 'Côte D’Ivoire': 53, 'Greenland': 54, 'Gambia': 55, 'Guinea': 56, 'Equatorial Guinea': 57, 'South Georgia and The South Sandwich Islands': 58, 'Guatemala': 59, 'Guam': 60, 'Cook Islands': 61, 'Chile': 62, 'France': 63, 'Croatia': 64, 'Haiti': 65, 'Hungary': 66, 'Iceland': 67, 'Italy': 68, 'Jersey': 69, 'Jamaica': 70, 'Jordan': 71, 'Kenya': 72, 'Kyrgyzstan': 73, 'Germany': 74, 'Djibouti': 75, 'Denmark': 76, 'Dominica': 77, 'Dominican Republic': 78, 'Algeria': 79, 'Ecuador': 80, 'Estonia': 81, 'Egypt': 82, 'Western Sahara': 83, 'Eritrea': 84, 'Gabon': 85, 'Grenada': 86, 'Georgia': 87, 'Honduras': 88, 'Greece': 89, 'North Korea': 90, 'Spain': 91, 'Ethiopia': 92, 'Finland': 93, 'Fiji': 94, 'Falkland Islands': 95, 'Micronesia': 96, 'Faroes': 97, 'Guernsey': 98, 'Ghana': 99, 'Gibraltar': 100, 'Guinea-Bissau': 101, 'Guyana': 102, 'Hong Kong': 103, 'Heard Island and Mcdonald Islands': 104, 'Nigeria': 105, 'Netherlands': 106, 'Nepal': 107, 'Nauru': 108, 'Niue': 109, 'Saint Kitts and Nevis': 110, 'Cambodia': 111, 'Kiribati': 112, 'Cayman Islands': 113, 'Kazakhstan': 114, 'Laos': 115, 'Lebanon': 116, 'Saint Lucia': 117, 'Liechtenstein': 118, 'Sri Lanka': 119, 'Peru': 120, 'Indonesia': 121, 'Ireland': 122, 'Israel': 123, 'Isle of Man': 124, 'British Indian Ocean Territory': 125, 'Iraq': 126, 'Nicaragua': 127, 'India': 128, 'Iran': 129, 'Comoros': 130, 'Japan': 131, 'South Korea': 132, 'Kuwait': 133, 'French Polynesia': 134, 'Pakistan': 135, 'Poland': 136, 'Saint Pierre and Miquelon': 137, 'Pitcairn Islands': 138, 'Liberia': 139, 'Lesotho': 140, 'Lithuania': 141, 'Luxembourg': 142, 'Papua New Guinea': 143, 'Malta': 144, 'Mauritius': 145, 'Maldives': 146, 'Malawi': 147, 'Mexico': 148, 'Malaysia': 149, 'Mozambique': 150, 'Philippines': 151, 'Puerto Rico': 152, 'Palestine': 153, 'Portugal': 154, 'Palau': 155, 'Paraguay': 156, 'Qatar': 157, 'Romania': 158, 'Serbia': 159, 'Tajikistan': 160, 'Tokelau': 161, 'Timor-Leste': 162, 'Namibia': 163, 'New Caledonia': 164, 'Niger': 165, 'Norfolk Island': 166, 'New Zealand': 167, 'Oman': 168, 'Panama': 169, 'Latvia': 170, 'Libya': 171, 'Morocco': 172, 'Monaco': 173, 'Moldova': 174, 'Montenegro': 175, 'Madagascar': 176, 'Marshall Islands': 177, 'North Macedonia': 178, 'Mali': 179, 'Myanmar/Burma': 180, 'Mongolia': 181, 'Macau': 182, 'Northern Mariana Islands': 183, 'Mauritania': 184, 'Montserrat': 185, 'Russian Federation': 186, 'Rwanda': 187, 'Saudi Arabia': 188, 'Solomon Islands': 189, 'Turkmenistan': 190, 'Tunisia': 191, 'Tonga': 192, 'Turkey': 193, 'Trinidad and Tobago': 194, 'Tuvalu': 195, 'United Republic of Tanzania': 196, 'Ukraine': 197, 'Uganda': 198, 'United States Minor Outlying Islands': 199, 'Uruguay': 200, 'Uzbekistan': 201, 'Vatican City': 202, 'Saint Vincent and The Grenadines': 203, 'Seychelles': 204, 'Sudan': 205, 'Sweden': 206, 'Singapore': 207, 'Saint Helena, Ascension and Tristan Da Cunha': 208, 'Slovenia': 209, 'United Kingdom': 210, 'Vietnam': 211, 'Vanuatu': 212, 'Wallis and Futuna': 213, 'Samoa': 214, 'Paracel Islands': 215, 'Spratly Islands': 216, 'Aksai Chin': 217, 'Arunachal Pradesh': 218, 'China/India': 219, \"Hala'Ib Triangle\": 220, 'Ilemi Triangle': 221, 'Jammu Kashmir': 222, 'Kuril Islands': 223, 'Navassa Island': 224, 'United States': 225, 'Zimbabwe': 226, 'Venezuela': 227, 'British Virgin Islands': 228, 'Us Virgin Islands': 229, 'Svalbard and Jan Mayen': 230, 'Slovakia': 231, 'Sierra Leone': 232, 'San Marino': 233, 'Senegal': 234, 'Somalia': 235, 'Suriname': 236, 'South Sudan': 237, 'São Tomé and Príncipe': 238, 'El Salvador': 239, 'Sint-Maarten': 240, 'Syria': 241, 'Eswatini': 242, 'Turks and Caicos Islands': 243, 'Chad': 244, 'French Southern and Antarctic Lands': 245, 'Togo': 246, 'Thailand': 247, 'Scarborough Reef': 248, 'Senkaku Islands': 249, 'Bassas Da India': 250, 'Abyei': 251, 'Bir Tawil (Disputed Territory)': 252, 'Yemen': 253, 'South Africa': 254, 'Zambia': 255, 'Norway': 256}\n"
     ]
    }
   ],
   "source": [
    "country_position = {}\n",
    "for index in range(len(choropleth_locations['features'])):\n",
    "    country_id = choropleth_locations['features'][index][\"properties\"][\"NAME_ENGL\"]\n",
    "    if country_id in country_position:\n",
    "        assert False, \"Repeated countries?!\"\n",
    "    country_position[country_id] = index\n",
    "print(country_position)"
   ]
  },
  {
   "cell_type": "code",
   "execution_count": 32,
   "metadata": {
    "scrolled": false
   },
   "outputs": [
    {
     "data": {
      "text/plain": [
       "{\"coordinates\": [[[1.7258, 42.5044], [1.46852, 42.44399], [1.44257, 42.60367], [1.50547, 42.63238], [1.52727, 42.64232], [1.56476, 42.63238], [1.7861, 42.57366], [1.7258, 42.5044]]], \"type\": \"Polygon\"}"
      ]
     },
     "execution_count": 32,
     "metadata": {},
     "output_type": "execute_result"
    }
   ],
   "source": [
    "choropleth_locations['features'][country_position[\"Andorra\"]][\"geometry\"]"
   ]
  },
  {
   "cell_type": "code",
   "execution_count": 33,
   "metadata": {
    "scrolled": false
   },
   "outputs": [
    {
     "name": "stdout",
     "output_type": "stream",
     "text": [
      "Info de -> {'AD': 'Andorra', 'AE': 'United Arab Emirates', 'AF': 'Afghanistan', 'AG': 'Antigua and Barbuda', 'AL': 'Anguilla', 'AM': 'Armenia', 'AO': 'Angola', 'AR': 'Argentina', 'AT': 'Austria', 'AU': 'Australia', 'AW': 'Aruba', 'AZ': 'Azerbaijan', 'BA': 'Bosnia and Herzegovina', 'BB': 'Barbados', 'BD': 'Bangladesh', 'BE': 'Belgium', 'BF': 'Burkina Faso', 'BG': 'Bulgaria', 'BH': 'Bahrain', 'BJ': 'Benin', 'BM': 'Bermuda', 'BO': 'Bolivia', 'BR': 'Brazil', 'BS': 'Bahamas', 'BT': 'Bhutan', 'BW': 'Botswana', 'BY': 'Belarus', 'BZ': 'Belize', 'CA': 'Canada', 'CD': 'Democratic Republic of The Congo', 'CF': 'Central African Republic', 'CG': 'Congo', 'CH': 'Switzerland', 'CL': 'Chile', 'CM': 'Cameroon', 'CN': 'China', 'CO': 'Colombia', 'CR': 'Costa Rica', 'CU': 'Cuba', 'CV': 'Cape Verde', 'CW': 'Curaçao', 'CY': 'Cyprus', 'CZ': 'Czechia', 'DE': 'Germany', 'DJ': 'Djibouti', 'DK': 'Denmark', 'DM': 'Dominica', 'DO': 'Dominican Republic', 'DZ': 'Algeria', 'EC': 'Ecuador', 'EE': 'Estonia', 'EG': 'Egypt', 'EH': 'Western Sahara', 'ET': 'Ethiopia', 'FI': 'Finland', 'FJ': 'Fiji', 'FR': 'France', 'GA': 'Gabon', 'GB': 'United Kingdom', 'GD': 'Grenada', 'GE': 'Georgia', 'GH': 'Ghana', 'GI': 'Gibraltar', 'GM': 'Gambia', 'GN': 'Guinea', 'GQ': 'Equatorial Guinea', 'GR': 'Greece', 'GT': 'Guatemala', 'GW': 'Guinea-Bissau', 'GY': 'Guyana', 'HN': 'Honduras', 'HR': 'Croatia', 'HT': 'Haiti', 'HU': 'Hungary', 'ID': 'Indonesia', 'IE': 'Ireland', 'IL': 'Israel', 'IN': 'Isle of Man', 'IQ': 'Iraq', 'IR': 'Iran', 'IS': 'Iceland', 'IT': 'Italy', 'JM': 'Jamaica', 'JO': 'Jordan', 'JP': 'Japan', 'KE': 'Kenya', 'KG': 'Kyrgyzstan', 'KH': 'Cambodia', 'KM': 'Comoros', 'KR': 'South Korea', 'KW': 'Kuwait', 'KY': 'Cayman Islands', 'KZ': 'Kazakhstan', 'LA': 'Laos', 'LB': 'Lebanon', 'LC': 'Saint Lucia', 'LI': 'Liechtenstein', 'LK': 'Sri Lanka', 'LR': 'Liberia', 'LT': 'Lithuania', 'LU': 'Luxembourg', 'LV': 'Latvia', 'LY': 'Libya', 'MA': 'Morocco', 'MD': 'Moldova', 'ME': 'Montenegro', 'MG': 'Madagascar', 'MK': 'North Macedonia', 'ML': 'Mali', 'MM': 'Myanmar/Burma', 'MN': 'Mongolia', 'MR': 'Mauritania', 'MT': 'Malta', 'MU': 'Mauritius', 'MV': 'Maldives', 'MW': 'Malawi', 'MX': 'Mexico', 'MY': 'Malaysia', 'MZ': 'Mozambique', 'NC': 'New Caledonia', 'NE': 'Niger', 'NG': 'Nigeria', 'NI': 'Nicaragua', 'NL': 'Netherlands', 'NO': 'Norway', 'NP': 'Nepal', 'NZ': 'New Zealand', 'OM': 'Oman', 'PA': 'Panama', 'PE': 'Peru', 'PF': 'French Polynesia', 'PG': 'Papua New Guinea', 'PH': 'Philippines', 'PK': 'Pakistan', 'PL': 'Poland', 'PS': 'Palestine', 'PT': 'Portugal', 'PY': 'Paraguay', 'QA': 'Qatar', 'RO': 'Romania', 'RU': 'Russian Federation', 'RW': 'Rwanda', 'SA': 'Saudi Arabia', 'SC': 'Seychelles', 'SD': 'Sudan', 'SE': 'Sweden', 'SG': 'Singapore', 'SI': 'Slovenia', 'SK': 'Slovakia', 'SL': 'Sierra Leone', 'SM': 'San Marino', 'SN': 'Senegal', 'SO': 'Somalia', 'SR': 'Suriname', 'SS': 'South Sudan', 'ST': 'São Tomé and Príncipe', 'SV': 'El Salvador', 'SY': 'Syria', 'SZ': 'Eswatini', 'TD': 'Chad', 'TG': 'Togo', 'TH': 'Thailand', 'TJ': 'Tajikistan', 'TL': 'Timor-Leste', 'TN': 'Tunisia', 'TR': 'Turkey', 'TT': 'Trinidad and Tobago', 'TZ': 'United Republic of Tanzania', 'UA': 'Ukraine', 'UG': 'Uganda', 'US': 'United States', 'UY': 'Uruguay', 'UZ': 'Uzbekistan', 'VE': 'Venezuela', 'VG': 'British Virgin Islands', 'VN': 'Vietnam', 'WS': 'Wallis and Futuna', 'YE': 'Yemen', 'ZA': 'South Africa', 'ZM': 'Zambia', 'ZW': 'Zimbabwe'}\n"
     ]
    }
   ],
   "source": [
    "print(f\"Info de -> {abreviatura2location}\")"
   ]
  },
  {
   "cell_type": "code",
   "execution_count": 139,
   "metadata": {},
   "outputs": [
    {
     "data": {
      "text/html": [
       "<div>\n",
       "<style scoped>\n",
       "    .dataframe tbody tr th:only-of-type {\n",
       "        vertical-align: middle;\n",
       "    }\n",
       "\n",
       "    .dataframe tbody tr th {\n",
       "        vertical-align: top;\n",
       "    }\n",
       "\n",
       "    .dataframe thead th {\n",
       "        text-align: right;\n",
       "    }\n",
       "</style>\n",
       "<table border=\"1\" class=\"dataframe\">\n",
       "  <thead>\n",
       "    <tr style=\"text-align: right;\">\n",
       "      <th></th>\n",
       "      <th>iso_code</th>\n",
       "      <th>continent</th>\n",
       "      <th>location</th>\n",
       "      <th>date</th>\n",
       "      <th>total_cases</th>\n",
       "      <th>new_cases</th>\n",
       "      <th>new_cases_smoothed</th>\n",
       "      <th>total_deaths</th>\n",
       "      <th>new_deaths</th>\n",
       "      <th>new_deaths_smoothed</th>\n",
       "      <th>...</th>\n",
       "      <th>diabetes_prevalence</th>\n",
       "      <th>female_smokers</th>\n",
       "      <th>male_smokers</th>\n",
       "      <th>handwashing_facilities</th>\n",
       "      <th>hospital_beds_per_thousand</th>\n",
       "      <th>life_expectancy</th>\n",
       "      <th>human_development_index</th>\n",
       "      <th>day</th>\n",
       "      <th>month</th>\n",
       "      <th>year</th>\n",
       "    </tr>\n",
       "  </thead>\n",
       "  <tbody>\n",
       "    <tr>\n",
       "      <th>0</th>\n",
       "      <td>AFG</td>\n",
       "      <td>Asia</td>\n",
       "      <td>Afghanistan</td>\n",
       "      <td>2020-02-24</td>\n",
       "      <td>1.0</td>\n",
       "      <td>1.0</td>\n",
       "      <td>NaN</td>\n",
       "      <td>NaN</td>\n",
       "      <td>NaN</td>\n",
       "      <td>NaN</td>\n",
       "      <td>...</td>\n",
       "      <td>9.59</td>\n",
       "      <td>NaN</td>\n",
       "      <td>NaN</td>\n",
       "      <td>37.746</td>\n",
       "      <td>0.5</td>\n",
       "      <td>64.83</td>\n",
       "      <td>0.511</td>\n",
       "      <td>24</td>\n",
       "      <td>2</td>\n",
       "      <td>2020</td>\n",
       "    </tr>\n",
       "    <tr>\n",
       "      <th>1</th>\n",
       "      <td>AFG</td>\n",
       "      <td>Asia</td>\n",
       "      <td>Afghanistan</td>\n",
       "      <td>2020-02-25</td>\n",
       "      <td>1.0</td>\n",
       "      <td>0.0</td>\n",
       "      <td>NaN</td>\n",
       "      <td>NaN</td>\n",
       "      <td>NaN</td>\n",
       "      <td>NaN</td>\n",
       "      <td>...</td>\n",
       "      <td>9.59</td>\n",
       "      <td>NaN</td>\n",
       "      <td>NaN</td>\n",
       "      <td>37.746</td>\n",
       "      <td>0.5</td>\n",
       "      <td>64.83</td>\n",
       "      <td>0.511</td>\n",
       "      <td>25</td>\n",
       "      <td>2</td>\n",
       "      <td>2020</td>\n",
       "    </tr>\n",
       "    <tr>\n",
       "      <th>2</th>\n",
       "      <td>AFG</td>\n",
       "      <td>Asia</td>\n",
       "      <td>Afghanistan</td>\n",
       "      <td>2020-02-26</td>\n",
       "      <td>1.0</td>\n",
       "      <td>0.0</td>\n",
       "      <td>NaN</td>\n",
       "      <td>NaN</td>\n",
       "      <td>NaN</td>\n",
       "      <td>NaN</td>\n",
       "      <td>...</td>\n",
       "      <td>9.59</td>\n",
       "      <td>NaN</td>\n",
       "      <td>NaN</td>\n",
       "      <td>37.746</td>\n",
       "      <td>0.5</td>\n",
       "      <td>64.83</td>\n",
       "      <td>0.511</td>\n",
       "      <td>26</td>\n",
       "      <td>2</td>\n",
       "      <td>2020</td>\n",
       "    </tr>\n",
       "    <tr>\n",
       "      <th>3</th>\n",
       "      <td>AFG</td>\n",
       "      <td>Asia</td>\n",
       "      <td>Afghanistan</td>\n",
       "      <td>2020-02-27</td>\n",
       "      <td>1.0</td>\n",
       "      <td>0.0</td>\n",
       "      <td>NaN</td>\n",
       "      <td>NaN</td>\n",
       "      <td>NaN</td>\n",
       "      <td>NaN</td>\n",
       "      <td>...</td>\n",
       "      <td>9.59</td>\n",
       "      <td>NaN</td>\n",
       "      <td>NaN</td>\n",
       "      <td>37.746</td>\n",
       "      <td>0.5</td>\n",
       "      <td>64.83</td>\n",
       "      <td>0.511</td>\n",
       "      <td>27</td>\n",
       "      <td>2</td>\n",
       "      <td>2020</td>\n",
       "    </tr>\n",
       "    <tr>\n",
       "      <th>4</th>\n",
       "      <td>AFG</td>\n",
       "      <td>Asia</td>\n",
       "      <td>Afghanistan</td>\n",
       "      <td>2020-02-28</td>\n",
       "      <td>1.0</td>\n",
       "      <td>0.0</td>\n",
       "      <td>NaN</td>\n",
       "      <td>NaN</td>\n",
       "      <td>NaN</td>\n",
       "      <td>NaN</td>\n",
       "      <td>...</td>\n",
       "      <td>9.59</td>\n",
       "      <td>NaN</td>\n",
       "      <td>NaN</td>\n",
       "      <td>37.746</td>\n",
       "      <td>0.5</td>\n",
       "      <td>64.83</td>\n",
       "      <td>0.511</td>\n",
       "      <td>28</td>\n",
       "      <td>2</td>\n",
       "      <td>2020</td>\n",
       "    </tr>\n",
       "  </tbody>\n",
       "</table>\n",
       "<p>5 rows × 62 columns</p>\n",
       "</div>"
      ],
      "text/plain": [
       "  iso_code continent     location       date  total_cases  new_cases  \\\n",
       "0      AFG      Asia  Afghanistan 2020-02-24          1.0        1.0   \n",
       "1      AFG      Asia  Afghanistan 2020-02-25          1.0        0.0   \n",
       "2      AFG      Asia  Afghanistan 2020-02-26          1.0        0.0   \n",
       "3      AFG      Asia  Afghanistan 2020-02-27          1.0        0.0   \n",
       "4      AFG      Asia  Afghanistan 2020-02-28          1.0        0.0   \n",
       "\n",
       "   new_cases_smoothed  total_deaths  new_deaths  new_deaths_smoothed  ...  \\\n",
       "0                 NaN           NaN         NaN                  NaN  ...   \n",
       "1                 NaN           NaN         NaN                  NaN  ...   \n",
       "2                 NaN           NaN         NaN                  NaN  ...   \n",
       "3                 NaN           NaN         NaN                  NaN  ...   \n",
       "4                 NaN           NaN         NaN                  NaN  ...   \n",
       "\n",
       "   diabetes_prevalence  female_smokers  male_smokers  handwashing_facilities  \\\n",
       "0                 9.59             NaN           NaN                  37.746   \n",
       "1                 9.59             NaN           NaN                  37.746   \n",
       "2                 9.59             NaN           NaN                  37.746   \n",
       "3                 9.59             NaN           NaN                  37.746   \n",
       "4                 9.59             NaN           NaN                  37.746   \n",
       "\n",
       "   hospital_beds_per_thousand  life_expectancy  human_development_index  day  \\\n",
       "0                         0.5            64.83                    0.511   24   \n",
       "1                         0.5            64.83                    0.511   25   \n",
       "2                         0.5            64.83                    0.511   26   \n",
       "3                         0.5            64.83                    0.511   27   \n",
       "4                         0.5            64.83                    0.511   28   \n",
       "\n",
       "   month  year  \n",
       "0      2  2020  \n",
       "1      2  2020  \n",
       "2      2  2020  \n",
       "3      2  2020  \n",
       "4      2  2020  \n",
       "\n",
       "[5 rows x 62 columns]"
      ]
     },
     "execution_count": 139,
     "metadata": {},
     "output_type": "execute_result"
    }
   ],
   "source": [
    "covid_full = pd.read_csv(\"owid/covid-data.csv\")\n",
    "covid_full.date = pd.to_datetime(covid_full.date)\n",
    "covid_full[\"day\"] = covid_full.date.dt.day\n",
    "covid_full[\"month\"] = covid_full.date.dt.month\n",
    "covid_full[\"year\"] = covid_full.date.dt.year\n",
    "covid_full.head()"
   ]
  },
  {
   "cell_type": "code",
   "execution_count": 99,
   "metadata": {},
   "outputs": [
    {
     "name": "stdout",
     "output_type": "stream",
     "text": [
      "Aruba\n",
      "Curaçao\n",
      "Western Sahara\n",
      "Myanmar/Burma\n",
      "New Caledonia\n",
      "French Polynesia\n",
      "São Tomé and Príncipe\n",
      "Timor-Leste\n",
      "United Republic of Tanzania\n",
      "British Virgin Islands\n",
      "Wallis and Futuna\n"
     ]
    }
   ],
   "source": [
    "fix_pais = {\"Russian Federation\":\"Russia\", \"Democratic Republic of The Congo\":\"Congo\"}\n",
    "paises_analisis_covid = {**abreviatura2location, **{\"ES\": \"Spain\"}}\n",
    "for pais_id in paises_analisis_covid:\n",
    "    \n",
    "    pais = paises_analisis_covid[pais_id]\n",
    "    \n",
    "    if pais in fix_pais: pais = fix_pais[pais]\n",
    "        \n",
    "    pais_covid_info = covid_full.loc[(covid_full[\"location\"]==pais.replace(\" \", \"_\"))]\n",
    "    if len(pais_covid_info)==0:\n",
    "        pais_covid_info = covid_full.loc[covid_full[\"location\"]==pais.replace(\" \", \" \")]\n",
    "        if len(pais_covid_info)==0:\n",
    "            print(pais)"
   ]
  },
  {
   "cell_type": "code",
   "execution_count": 108,
   "metadata": {},
   "outputs": [
    {
     "name": "stdout",
     "output_type": "stream",
     "text": [
      "Aruba Skipped\n",
      "Curaçao Skipped\n",
      "Western Sahara Skipped\n",
      "Myanmar/Burma Skipped\n",
      "New Caledonia Skipped\n",
      "French Polynesia Skipped\n",
      "São Tomé and Príncipe Skipped\n",
      "Timor-Leste Skipped\n",
      "United Republic of Tanzania Skipped\n",
      "British Virgin Islands Skipped\n",
      "Wallis and Futuna Skipped\n"
     ]
    }
   ],
   "source": [
    "fix_pais = {\"Russian Federation\":\"Russia\", \"Democratic Republic of The Congo\":\"Congo\"}\n",
    "\n",
    "res = []\n",
    "\n",
    "max_cases = -1\n",
    "\n",
    "paises_analisis_covid = {**abreviatura2location, **{\"ES\": \"Spain\"}}\n",
    "\n",
    "for pais_id in paises_analisis_covid:\n",
    "    pais = paises_analisis_covid[pais_id]\n",
    "    \n",
    "    if pais in fix_pais: \n",
    "        paisdf = fix_pais[pais]\n",
    "    else:\n",
    "        paisdf = pais\n",
    "        \n",
    "    pais_covid_info = covid_full.loc[(covid_full[\"location\"]==paisdf.replace(\" \", \"_\"))]\n",
    "    if len(pais_covid_info)==0:\n",
    "        pais_covid_info = covid_full.loc[covid_full[\"location\"]==paisdf.replace(\" \", \" \")]\n",
    "        if len(pais_covid_info)==0:\n",
    "            print(f\"{paisdf} Skipped\")\n",
    "            continue\n",
    "    \n",
    "    for mes in [1, 2, 3, 4, 5, 6, 7, 8, 9, 10, 11, 12]:\n",
    "    \n",
    "        info_mes_2020 = pais_covid_info.loc[(pais_covid_info[\"month\"]==mes) & (pais_covid_info[\"year\"]==2020)]\n",
    "        \n",
    "        if int(info_mes_2020[\"new_cases\"].sum()) > 0:\n",
    "        \n",
    "            res.append({\n",
    "                \"type\":\"Feature\",\n",
    "                \"properties\":{\n",
    "                    \"id\": uuid.uuid4().hex,\n",
    "                    #\"countryISO\": pais_id,\n",
    "                    \"Month\": mes,\n",
    "                    \"Year\": 2020,\n",
    "                    \"cases\": int(info_mes_2020[\"new_cases\"].sum()),\n",
    "                    \"deaths\": int(info_mes_2020[\"new_deaths\"].sum()),\n",
    "                    \"Reporter\": pais2display[pais]\n",
    "                },\n",
    "                \"geometry\":{\n",
    "                    **choropleth_locations['features'][country_position[pais]][\"geometry\"]\n",
    "                }\n",
    "            })\n",
    "\n",
    "            max_cases = max_cases if max_cases > int(info_mes_2020[\"new_cases\"].sum()) else int(info_mes_2020[\"new_cases\"].sum())"
   ]
  },
  {
   "cell_type": "code",
   "execution_count": 110,
   "metadata": {},
   "outputs": [],
   "source": [
    "res = {\n",
    "  \"type\": \"FeatureCollection\",\n",
    "  \"features\": res\n",
    "}\n",
    "\n",
    "with open('covid_choropleth_20m_min_full.geojson', 'w') as fp:\n",
    "    json.dump(res, fp, separators=(',', ':'))"
   ]
  }
 ],
 "metadata": {
  "kernelspec": {
   "display_name": "Python 3",
   "language": "python",
   "name": "python3"
  },
  "language_info": {
   "codemirror_mode": {
    "name": "ipython",
    "version": 3
   },
   "file_extension": ".py",
   "mimetype": "text/x-python",
   "name": "python",
   "nbconvert_exporter": "python",
   "pygments_lexer": "ipython3",
   "version": "3.9.2"
  }
 },
 "nbformat": 4,
 "nbformat_minor": 4
}
